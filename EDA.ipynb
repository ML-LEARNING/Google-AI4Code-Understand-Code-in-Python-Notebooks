{
 "cells": [
  {
   "cell_type": "markdown",
   "id": "a8bce107",
   "metadata": {},
   "source": [
    "# EDA ~ Exploratory data analysis"
   ]
  },
  {
   "cell_type": "code",
   "execution_count": 1,
   "id": "887a7432",
   "metadata": {},
   "outputs": [],
   "source": [
    "g_path = \"/Users/jaydeepchakraborty/JC/git-projects/ml_project/\"\n",
    "local_repo= '/Kaggle-Google-AI4Code/'"
   ]
  },
  {
   "cell_type": "code",
   "execution_count": 2,
   "id": "736b35cd",
   "metadata": {},
   "outputs": [],
   "source": [
    "import pandas as pd\n",
    "import numpy as np\n",
    "import re\n",
    "from collections import Counter\n",
    "import matplotlib.pyplot as plt\n",
    "from IPython.display import display, HTML"
   ]
  },
  {
   "cell_type": "markdown",
   "id": "48e98ca2",
   "metadata": {},
   "source": [
    "## train_orders.csv"
   ]
  },
  {
   "cell_type": "code",
   "execution_count": 3,
   "id": "6e99fbe2",
   "metadata": {},
   "outputs": [],
   "source": [
    "fl_path= g_path+local_repo+'/train_orders.csv'\n",
    "df_train_orders= pd.read_csv(fl_path)"
   ]
  },
  {
   "cell_type": "code",
   "execution_count": 4,
   "id": "4e8f517c",
   "metadata": {},
   "outputs": [
    {
     "name": "stdout",
     "output_type": "stream",
     "text": [
      "len train_orders:-  139256\n"
     ]
    },
    {
     "data": {
      "text/html": [
       "<div>\n",
       "<style scoped>\n",
       "    .dataframe tbody tr th:only-of-type {\n",
       "        vertical-align: middle;\n",
       "    }\n",
       "\n",
       "    .dataframe tbody tr th {\n",
       "        vertical-align: top;\n",
       "    }\n",
       "\n",
       "    .dataframe thead th {\n",
       "        text-align: right;\n",
       "    }\n",
       "</style>\n",
       "<table border=\"1\" class=\"dataframe\">\n",
       "  <thead>\n",
       "    <tr style=\"text-align: right;\">\n",
       "      <th></th>\n",
       "      <th>id</th>\n",
       "      <th>cell_order</th>\n",
       "    </tr>\n",
       "  </thead>\n",
       "  <tbody>\n",
       "    <tr>\n",
       "      <th>0</th>\n",
       "      <td>00001756c60be8</td>\n",
       "      <td>1862f0a6 448eb224 2a9e43d6 7e2f170a 038b763d 7...</td>\n",
       "    </tr>\n",
       "    <tr>\n",
       "      <th>1</th>\n",
       "      <td>00015c83e2717b</td>\n",
       "      <td>2e94bd7a 3e99dee9 b5e286ea da4f7550 c417225b 5...</td>\n",
       "    </tr>\n",
       "    <tr>\n",
       "      <th>2</th>\n",
       "      <td>0001bdd4021779</td>\n",
       "      <td>3fdc37be 073782ca 8ea7263c 80543cd8 38310c80 0...</td>\n",
       "    </tr>\n",
       "    <tr>\n",
       "      <th>3</th>\n",
       "      <td>0001daf4c2c76d</td>\n",
       "      <td>97266564 a898e555 86605076 76cc2642 ef279279 d...</td>\n",
       "    </tr>\n",
       "    <tr>\n",
       "      <th>4</th>\n",
       "      <td>0002115f48f982</td>\n",
       "      <td>9ec225f0 18281c6c e3b6b115 4a044c54 365fe576 a...</td>\n",
       "    </tr>\n",
       "  </tbody>\n",
       "</table>\n",
       "</div>"
      ],
      "text/plain": [
       "               id                                         cell_order\n",
       "0  00001756c60be8  1862f0a6 448eb224 2a9e43d6 7e2f170a 038b763d 7...\n",
       "1  00015c83e2717b  2e94bd7a 3e99dee9 b5e286ea da4f7550 c417225b 5...\n",
       "2  0001bdd4021779  3fdc37be 073782ca 8ea7263c 80543cd8 38310c80 0...\n",
       "3  0001daf4c2c76d  97266564 a898e555 86605076 76cc2642 ef279279 d...\n",
       "4  0002115f48f982  9ec225f0 18281c6c e3b6b115 4a044c54 365fe576 a..."
      ]
     },
     "metadata": {},
     "output_type": "display_data"
    }
   ],
   "source": [
    "print(\"len train_orders:- \", len(df_train_orders))\n",
    "display(df_train_orders.head(5))\n",
    "del df_train_orders"
   ]
  },
  {
   "cell_type": "markdown",
   "id": "661cf6ef",
   "metadata": {},
   "source": [
    "## train data"
   ]
  },
  {
   "cell_type": "code",
   "execution_count": 6,
   "id": "034a3810",
   "metadata": {},
   "outputs": [
    {
     "name": "stdout",
     "output_type": "stream",
     "text": [
      "loading:-  /Users/jaydeepchakraborty/JC/git-projects/ml_project//Kaggle-Google-AI4Code/Kaggle_Google_AI4Code_train_1.hdf\n",
      "loading:-  /Users/jaydeepchakraborty/JC/git-projects/ml_project//Kaggle-Google-AI4Code/Kaggle_Google_AI4Code_train_2.hdf\n",
      "loading:-  /Users/jaydeepchakraborty/JC/git-projects/ml_project//Kaggle-Google-AI4Code/Kaggle_Google_AI4Code_train_3.hdf\n",
      "loading:-  /Users/jaydeepchakraborty/JC/git-projects/ml_project//Kaggle-Google-AI4Code/Kaggle_Google_AI4Code_train_4.hdf\n",
      "loading:-  /Users/jaydeepchakraborty/JC/git-projects/ml_project//Kaggle-Google-AI4Code/Kaggle_Google_AI4Code_train_5.hdf\n",
      "loading:-  /Users/jaydeepchakraborty/JC/git-projects/ml_project//Kaggle-Google-AI4Code/Kaggle_Google_AI4Code_train_6.hdf\n",
      "loading:-  /Users/jaydeepchakraborty/JC/git-projects/ml_project//Kaggle-Google-AI4Code/Kaggle_Google_AI4Code_train_7.hdf\n",
      "loading:-  /Users/jaydeepchakraborty/JC/git-projects/ml_project//Kaggle-Google-AI4Code/Kaggle_Google_AI4Code_train_8.hdf\n",
      "loading:-  /Users/jaydeepchakraborty/JC/git-projects/ml_project//Kaggle-Google-AI4Code/Kaggle_Google_AI4Code_train_9.hdf\n",
      "loading:-  /Users/jaydeepchakraborty/JC/git-projects/ml_project//Kaggle-Google-AI4Code/Kaggle_Google_AI4Code_train_10.hdf\n"
     ]
    }
   ],
   "source": [
    "start= 0\n",
    "end= 10\n",
    "df_trains = []\n",
    "for idx in range(start, end):\n",
    "  fl_nm = g_path+local_repo+'Kaggle_Google_AI4Code_train_'+str(idx+1)+'.hdf'\n",
    "  key = 'Kaggle_Google_AI4Code_train_'+str(idx+1)\n",
    "  print(\"loading:- \", fl_nm)\n",
    "  df_trains.append(pd.read_hdf(fl_nm, key=key))"
   ]
  },
  {
   "cell_type": "code",
   "execution_count": 7,
   "id": "4ea6ccdf",
   "metadata": {},
   "outputs": [],
   "source": [
    "df_train = pd.concat(df_trains)\n",
    "del df_trains"
   ]
  },
  {
   "cell_type": "code",
   "execution_count": 8,
   "id": "7a0509c3",
   "metadata": {},
   "outputs": [
    {
     "name": "stdout",
     "output_type": "stream",
     "text": [
      "Train shape:-  (6370646, 2)\n"
     ]
    }
   ],
   "source": [
    "print(\"Train shape:- \", df_train.shape)"
   ]
  },
  {
   "cell_type": "code",
   "execution_count": 9,
   "id": "5062418d",
   "metadata": {},
   "outputs": [
    {
     "data": {
      "text/plain": [
       "'Train data:- '"
      ]
     },
     "metadata": {},
     "output_type": "display_data"
    },
    {
     "data": {
      "text/html": [
       "<div>\n",
       "<style scoped>\n",
       "    .dataframe tbody tr th:only-of-type {\n",
       "        vertical-align: middle;\n",
       "    }\n",
       "\n",
       "    .dataframe tbody tr th {\n",
       "        vertical-align: top;\n",
       "    }\n",
       "\n",
       "    .dataframe thead th {\n",
       "        text-align: right;\n",
       "    }\n",
       "</style>\n",
       "<table border=\"1\" class=\"dataframe\">\n",
       "  <thead>\n",
       "    <tr style=\"text-align: right;\">\n",
       "      <th></th>\n",
       "      <th></th>\n",
       "      <th>cell_type</th>\n",
       "      <th>source</th>\n",
       "    </tr>\n",
       "    <tr>\n",
       "      <th>id</th>\n",
       "      <th>cell_id</th>\n",
       "      <th></th>\n",
       "      <th></th>\n",
       "    </tr>\n",
       "  </thead>\n",
       "  <tbody>\n",
       "    <tr>\n",
       "      <th rowspan=\"10\" valign=\"top\">00001756c60be8</th>\n",
       "      <th>1862f0a6</th>\n",
       "      <td>code</td>\n",
       "      <td># This Python 3 environment comes with many he...</td>\n",
       "    </tr>\n",
       "    <tr>\n",
       "      <th>2a9e43d6</th>\n",
       "      <td>code</td>\n",
       "      <td>import numpy as np\\nimport pandas as pd\\nimpor...</td>\n",
       "    </tr>\n",
       "    <tr>\n",
       "      <th>038b763d</th>\n",
       "      <td>code</td>\n",
       "      <td>import warnings\\nwarnings.filterwarnings('igno...</td>\n",
       "    </tr>\n",
       "    <tr>\n",
       "      <th>2eefe0ef</th>\n",
       "      <td>code</td>\n",
       "      <td>matplotlib.rcParams.update({'font.size': 14})</td>\n",
       "    </tr>\n",
       "    <tr>\n",
       "      <th>0beab1cd</th>\n",
       "      <td>code</td>\n",
       "      <td>def evaluate_preds(train_true_values, train_pr...</td>\n",
       "    </tr>\n",
       "    <tr>\n",
       "      <th>9a78ab76</th>\n",
       "      <td>code</td>\n",
       "      <td>TRAIN_DATASET_PATH = '/kaggle/input/real-estat...</td>\n",
       "    </tr>\n",
       "    <tr>\n",
       "      <th>ebe125d5</th>\n",
       "      <td>code</td>\n",
       "      <td>train_df = pd.read_csv(TRAIN_DATASET_PATH)\\ntr...</td>\n",
       "    </tr>\n",
       "    <tr>\n",
       "      <th>d9dced8b</th>\n",
       "      <td>code</td>\n",
       "      <td>train_df.dtypes</td>\n",
       "    </tr>\n",
       "    <tr>\n",
       "      <th>86497fe1</th>\n",
       "      <td>code</td>\n",
       "      <td>num_feat = list(train_df.select_dtypes(exclude...</td>\n",
       "    </tr>\n",
       "    <tr>\n",
       "      <th>e2c8e725</th>\n",
       "      <td>code</td>\n",
       "      <td>test_df = pd.read_csv(TEST_DATASET_PATH)\\ntest...</td>\n",
       "    </tr>\n",
       "  </tbody>\n",
       "</table>\n",
       "</div>"
      ],
      "text/plain": [
       "                        cell_type  \\\n",
       "id             cell_id              \n",
       "00001756c60be8 1862f0a6      code   \n",
       "               2a9e43d6      code   \n",
       "               038b763d      code   \n",
       "               2eefe0ef      code   \n",
       "               0beab1cd      code   \n",
       "               9a78ab76      code   \n",
       "               ebe125d5      code   \n",
       "               d9dced8b      code   \n",
       "               86497fe1      code   \n",
       "               e2c8e725      code   \n",
       "\n",
       "                                                                    source  \n",
       "id             cell_id                                                      \n",
       "00001756c60be8 1862f0a6  # This Python 3 environment comes with many he...  \n",
       "               2a9e43d6  import numpy as np\\nimport pandas as pd\\nimpor...  \n",
       "               038b763d  import warnings\\nwarnings.filterwarnings('igno...  \n",
       "               2eefe0ef      matplotlib.rcParams.update({'font.size': 14})  \n",
       "               0beab1cd  def evaluate_preds(train_true_values, train_pr...  \n",
       "               9a78ab76  TRAIN_DATASET_PATH = '/kaggle/input/real-estat...  \n",
       "               ebe125d5  train_df = pd.read_csv(TRAIN_DATASET_PATH)\\ntr...  \n",
       "               d9dced8b                                    train_df.dtypes  \n",
       "               86497fe1  num_feat = list(train_df.select_dtypes(exclude...  \n",
       "               e2c8e725  test_df = pd.read_csv(TEST_DATASET_PATH)\\ntest...  "
      ]
     },
     "metadata": {},
     "output_type": "display_data"
    }
   ],
   "source": [
    "display(\"Train data:- \", df_train.head(10))"
   ]
  },
  {
   "cell_type": "code",
   "execution_count": 10,
   "id": "73b9f4fd",
   "metadata": {},
   "outputs": [
    {
     "data": {
      "text/plain": [
       "Index(['cell_type', 'source'], dtype='object')"
      ]
     },
     "execution_count": 10,
     "metadata": {},
     "output_type": "execute_result"
    }
   ],
   "source": [
    "df_train.columns"
   ]
  },
  {
   "cell_type": "code",
   "execution_count": 11,
   "id": "175f99b9",
   "metadata": {},
   "outputs": [
    {
     "name": "stdout",
     "output_type": "stream",
     "text": [
      "Total number of cell_type:-  6370646\n",
      "Total number of unique cell_type:-  2\n",
      "cell_type:- \n",
      " ['code' 'markdown']\n",
      "number of 'code' cells:-  4204582\n",
      "number of 'markdown' cells:-  2166064\n"
     ]
    }
   ],
   "source": [
    "'''\n",
    "column \"cell_type\"\n",
    "4204582/6370646 ~ 65.9% code\n",
    "2166064/6370646 ~ 34.1% markdown\n",
    "'''\n",
    "print(\"Total number of cell_type:- \", len(df_train['cell_type']))\n",
    "print(\"Total number of unique cell_type:- \", len(pd.unique(df_train['cell_type'])))\n",
    "print(\"cell_type:- \\n\", pd.unique(df_train['cell_type']))\n",
    "\n",
    "print(\"number of 'code' cells:- \", len(df_train[df_train['cell_type']==\"code\"]))\n",
    "print(\"number of 'markdown' cells:- \", len(df_train[df_train['cell_type']==\"markdown\"]))"
   ]
  },
  {
   "cell_type": "code",
   "execution_count": 12,
   "id": "82b4f770",
   "metadata": {},
   "outputs": [
    {
     "name": "stdout",
     "output_type": "stream",
     "text": [
      "Total number of source:-  6370646\n",
      "Total number of unique source:-  4860715\n"
     ]
    }
   ],
   "source": [
    "'''\n",
    "column \"source\"\n",
    "'''\n",
    "print(\"Total number of source:- \", len(df_train['source']))\n",
    "print(\"Total number of unique source:- \", len(pd.unique(df_train['source'])))"
   ]
  },
  {
   "cell_type": "code",
   "execution_count": 13,
   "id": "39ff933d",
   "metadata": {},
   "outputs": [
    {
     "name": "stdout",
     "output_type": "stream",
     "text": [
      "number of 'code' cells:-  4204582\n",
      "number of unique 'code' cells with source:-  3169490\n",
      "number of 'markdown' cells:-  2166064\n",
      "number of unique 'markdown' cells with source:-  1693058\n"
     ]
    }
   ],
   "source": [
    "tmp = df_train[df_train['cell_type']==\"code\"]\n",
    "print(\"number of 'code' cells:- \", len(tmp['source']))\n",
    "print(\"number of unique 'code' cells with source:- \", len(pd.unique(tmp['source'])))\n",
    "\n",
    "tmp = df_train[df_train['cell_type']==\"markdown\"]\n",
    "print(\"number of 'markdown' cells:- \", len(tmp['source']))\n",
    "print(\"number of unique 'markdown' cells with source:- \", len(pd.unique(tmp['source'])))\n",
    "\n",
    "del tmp"
   ]
  },
  {
   "cell_type": "code",
   "execution_count": 14,
   "id": "02b8d19d",
   "metadata": {},
   "outputs": [],
   "source": [
    "def clr_data(cell_val: str) -> list:\n",
    "    split_ind = ' |,|\\(|\\{|\\[|\\)|\\}|\\]|\\.|\\%|\\r\\n|\\r|\\n'\n",
    "    return list(filter(None, re.split(split_ind, cell_val)))"
   ]
  },
  {
   "cell_type": "code",
   "execution_count": 15,
   "id": "53bec1fd",
   "metadata": {},
   "outputs": [
    {
     "name": "stdout",
     "output_type": "stream",
     "text": [
      "Min source Length =  0\n",
      "Mean source Length =  35.19\n",
      "Max source Length =  109208\n",
      "Q_1:-  6.0 \n",
      "Q_2:-  14.0 \n",
      "Q_3:-  37.0 \n",
      "IQR:-  31.0\n",
      "len min - Q_1 :-  0\n",
      "len Q_1 - Q_2 :-  3197387\n",
      "len Q_2 - Q_3 :-  2692251\n",
      "len Q_3 - max :-  612204\n"
     ]
    },
    {
     "data": {
      "image/png": "[encoded data removed]",
      "text/plain": [
       "<Figure size 1800x360 with 1 Axes>"
      ]
     },
     "metadata": {
      "needs_background": "light"
     },
     "output_type": "display_data"
    },
    {
     "data": {
      "image/png": "[encoded data removed]",
      "text/plain": [
       "<Figure size 1800x360 with 1 Axes>"
      ]
     },
     "metadata": {
      "needs_background": "light"
     },
     "output_type": "display_data"
    }
   ],
   "source": [
    "'''\n",
    "source Length Distribution :\n",
    "'''\n",
    "tmp = np.array([len(clr_data(df_train[\"source\"][i])) for i in range(len(df_train))])\n",
    "print('Min source Length = ', min(tmp))\n",
    "print('Mean source Length = ', round(np.mean(tmp),2))\n",
    "print('Max source Length = ', max(tmp))\n",
    "\n",
    "\n",
    "fig,ax= plt.subplots(figsize= (25,5))\n",
    "plt.boxplot(tmp, vert=False, showbox=True, showmeans=True)\n",
    "plt.xlabel(\"Lenght of source\");\n",
    "\n",
    "\n",
    "# Q1, Q2, Q3 ~ quantile\n",
    "Q_val = pd.Series(tmp).quantile([0.25,0.5,0.75]).tolist()\n",
    "Q_1 = Q_val[0]\n",
    "Q_2 = Q_val[1]\n",
    "Q_3 = Q_val[2]\n",
    "IQR = Q_3 - Q_1\n",
    "\n",
    "print(\"Q_1:- \", Q_1, \"\\nQ_2:- \", Q_2, \"\\nQ_3:- \", Q_3, \"\\nIQR:- \", IQR)\n",
    "\n",
    "print(\"len min - Q_1 :- \", len(tmp[(tmp< (Q_1 - 1.5 * IQR))]))\n",
    "print(\"len Q_1 - Q_2 :- \", len(tmp[(tmp>= (Q_1 - 1.5 * IQR)) & (tmp<= (Q_2))]))\n",
    "print(\"len Q_2 - Q_3 :- \", len(tmp[(tmp>= (Q_2)) & (tmp<= (Q_3 + 1.5 * IQR))]))\n",
    "print(\"len Q_3 - max :- \", len(tmp[(tmp>= (Q_3 + 1.5 * IQR))]))\n",
    "\n",
    "# Filtering Values between Q1-1.5IQR and Q3+1.5IQR\n",
    "tmp = tmp[(tmp>= (Q_1 - 1.5 * IQR)) & (tmp<= (Q_3 + 1.5 * IQR))]\n",
    "\n",
    "fig,ax= plt.subplots(figsize= (25,5))\n",
    "plt.boxplot(tmp, vert=False, showbox=True, showmeans=True)\n",
    "plt.xlabel(\"Lenght of source - filtered\");\n",
    "\n",
    "del tmp"
   ]
  },
  {
   "cell_type": "code",
   "execution_count": 16,
   "id": "787de75c",
   "metadata": {},
   "outputs": [
    {
     "name": "stdout",
     "output_type": "stream",
     "text": [
      "import numpy as np\n",
      "import pandas as pd\n",
      "import random\n",
      "\n",
      "from sklearn.model_selection import train_test_split, cross_val_score\n",
      "from sklearn.preprocessing import StandardScaler, RobustScaler\n",
      "from catboost import CatBoostRegressor\n",
      "from sklearn.ensemble import RandomForestRegressor\n",
      "from sklearn.metrics import r2_score as r2\n",
      "from sklearn.model_selection import KFold, GridSearchCV\n",
      "\n",
      "from datetime import datetime\n",
      "\n",
      "import matplotlib\n",
      "import matplotlib.pyplot as plt\n",
      "import seaborn as sns\n",
      "%matplotlib inline\n",
      "['import', 'numpy', 'as', 'np', 'import', 'pandas', 'as', 'pd', 'import', 'random', 'from', 'sklearn', 'model_selection', 'import', 'train_test_split', 'cross_val_score', 'from', 'sklearn', 'preprocessing', 'import', 'StandardScaler', 'RobustScaler', 'from', 'catboost', 'import', 'CatBoostRegressor', 'from', 'sklearn', 'ensemble', 'import', 'RandomForestRegressor', 'from', 'sklearn', 'metrics', 'import', 'r2_score', 'as', 'r2', 'from', 'sklearn', 'model_selection', 'import', 'KFold', 'GridSearchCV', 'from', 'datetime', 'import', 'datetime', 'import', 'matplotlib', 'import', 'matplotlib', 'pyplot', 'as', 'plt', 'import', 'seaborn', 'as', 'sns', 'matplotlib', 'inline']\n"
     ]
    }
   ],
   "source": [
    "for i in range(len(df_train)):\n",
    "    if len(clr_data(df_train[\"source\"][i])) >= 10 and len(clr_data(df_train[\"source\"][i])) <= 100:\n",
    "        print(df_train[\"source\"][i])\n",
    "        print(clr_data(df_train[\"source\"][i]))\n",
    "        break"
   ]
  },
  {
   "cell_type": "code",
   "execution_count": 17,
   "id": "a09b07fb",
   "metadata": {},
   "outputs": [
    {
     "name": "stdout",
     "output_type": "stream",
     "text": [
      "Min source Length =  0\n",
      "Mean source Length =  37.57\n",
      "Max source Length =  109208\n",
      "Q_1:-  6.0 \n",
      "Q_2:-  16.0 \n",
      "Q_3:-  39.0 \n",
      "IQR:-  33.0\n",
      "len min - Q_1 :-  0\n",
      "len Q_1 - Q_2 :-  2128482\n",
      "len Q_2 - Q_3 :-  1759095\n",
      "len Q_3 - max :-  398733\n"
     ]
    },
    {
     "data": {
      "image/png": "[encoded data removed]",
      "text/plain": [
       "<Figure size 1800x360 with 1 Axes>"
      ]
     },
     "metadata": {
      "needs_background": "light"
     },
     "output_type": "display_data"
    },
    {
     "data": {
      "image/png": "[encoded data removed]",
      "text/plain": [
       "<Figure size 1800x360 with 1 Axes>"
      ]
     },
     "metadata": {
      "needs_background": "light"
     },
     "output_type": "display_data"
    }
   ],
   "source": [
    "'''\n",
    "source Length ~ code cell Distribution :\n",
    "'''\n",
    "tmp = df_train[df_train['cell_type']==\"code\"]\n",
    "tmp = np.array([len(clr_data(tmp[\"source\"][i])) for i in range(len(tmp))])\n",
    "print('Min source Length = ', min(tmp))\n",
    "print('Mean source Length = ', round(np.mean(tmp),2))\n",
    "print('Max source Length = ', max(tmp))\n",
    "\n",
    "\n",
    "fig,ax= plt.subplots(figsize= (25,5))\n",
    "plt.boxplot(tmp, vert=False, showbox=True, showmeans=True)\n",
    "plt.xlabel(\"Lenght of source\");\n",
    "\n",
    "\n",
    "# Q1, Q2, Q3 ~ quantile\n",
    "Q_val = pd.Series(tmp).quantile([0.25,0.5,0.75]).tolist()\n",
    "Q_1 = Q_val[0]\n",
    "Q_2 = Q_val[1]\n",
    "Q_3 = Q_val[2]\n",
    "IQR = Q_3 - Q_1\n",
    "\n",
    "print(\"Q_1:- \", Q_1, \"\\nQ_2:- \", Q_2, \"\\nQ_3:- \", Q_3, \"\\nIQR:- \", IQR)\n",
    "\n",
    "print(\"len min - Q_1 :- \", len(tmp[(tmp< (Q_1 - 1.5 * IQR))]))\n",
    "print(\"len Q_1 - Q_2 :- \", len(tmp[(tmp>= (Q_1 - 1.5 * IQR)) & (tmp<= (Q_2))]))\n",
    "print(\"len Q_2 - Q_3 :- \", len(tmp[(tmp>= (Q_2)) & (tmp<= (Q_3 + 1.5 * IQR))]))\n",
    "print(\"len Q_3 - max :- \", len(tmp[(tmp>= (Q_3 + 1.5 * IQR))]))\n",
    "\n",
    "# Filtering Values between Q1-1.5IQR and Q3+1.5IQR\n",
    "tmp = tmp[(tmp>= (Q_1 - 1.5 * IQR)) & (tmp<= (Q_3 + 1.5 * IQR))]\n",
    "\n",
    "fig,ax= plt.subplots(figsize= (25,5))\n",
    "plt.boxplot(tmp, vert=False, showbox=True, showmeans=True)\n",
    "plt.xlabel(\"Lenght of source - filtered\");\n",
    "\n",
    "del tmp"
   ]
  },
  {
   "cell_type": "code",
   "execution_count": 18,
   "id": "950ac5a2",
   "metadata": {},
   "outputs": [
    {
     "name": "stdout",
     "output_type": "stream",
     "text": [
      "import numpy as np\n",
      "import pandas as pd\n",
      "import random\n",
      "\n",
      "from sklearn.model_selection import train_test_split, cross_val_score\n",
      "from sklearn.preprocessing import StandardScaler, RobustScaler\n",
      "from catboost import CatBoostRegressor\n",
      "from sklearn.ensemble import RandomForestRegressor\n",
      "from sklearn.metrics import r2_score as r2\n",
      "from sklearn.model_selection import KFold, GridSearchCV\n",
      "\n",
      "from datetime import datetime\n",
      "\n",
      "import matplotlib\n",
      "import matplotlib.pyplot as plt\n",
      "import seaborn as sns\n",
      "%matplotlib inline\n",
      "['import', 'numpy', 'as', 'np', 'import', 'pandas', 'as', 'pd', 'import', 'random', 'from', 'sklearn', 'model_selection', 'import', 'train_test_split', 'cross_val_score', 'from', 'sklearn', 'preprocessing', 'import', 'StandardScaler', 'RobustScaler', 'from', 'catboost', 'import', 'CatBoostRegressor', 'from', 'sklearn', 'ensemble', 'import', 'RandomForestRegressor', 'from', 'sklearn', 'metrics', 'import', 'r2_score', 'as', 'r2', 'from', 'sklearn', 'model_selection', 'import', 'KFold', 'GridSearchCV', 'from', 'datetime', 'import', 'datetime', 'import', 'matplotlib', 'import', 'matplotlib', 'pyplot', 'as', 'plt', 'import', 'seaborn', 'as', 'sns', 'matplotlib', 'inline']\n"
     ]
    }
   ],
   "source": [
    "tmp = df_train[df_train['cell_type']==\"code\"]\n",
    "for i in range(len(tmp)):\n",
    "    if len(clr_data(tmp[\"source\"][i])) >= 10 and len(clr_data(tmp[\"source\"][i])) <= 100:\n",
    "        print(tmp[\"source\"][i])\n",
    "        print(clr_data(tmp[\"source\"][i]))\n",
    "        break"
   ]
  },
  {
   "cell_type": "code",
   "execution_count": 19,
   "id": "818fb2eb",
   "metadata": {},
   "outputs": [
    {
     "name": "stdout",
     "output_type": "stream",
     "text": [
      "Min source Length =  0\n",
      "Mean source Length =  30.56\n",
      "Max source Length =  51902\n",
      "Q_1:-  5.0 \n",
      "Q_2:-  11.0 \n",
      "Q_3:-  32.0 \n",
      "IQR:-  27.0\n",
      "len min - Q_1 :-  0\n",
      "len Q_1 - Q_2 :-  1107738\n",
      "len Q_2 - Q_3 :-  890609\n",
      "len Q_3 - max :-  219056\n"
     ]
    },
    {
     "data": {
      "image/png": "[encoded data removed]",
      "text/plain": [
       "<Figure size 1800x360 with 1 Axes>"
      ]
     },
     "metadata": {
      "needs_background": "light"
     },
     "output_type": "display_data"
    },
    {
     "data": {
      "image/png": "[encoded data removed]",
      "text/plain": [
       "<Figure size 1800x360 with 1 Axes>"
      ]
     },
     "metadata": {
      "needs_background": "light"
     },
     "output_type": "display_data"
    }
   ],
   "source": [
    "'''\n",
    "source Length ~ markdown cell Distribution :\n",
    "'''\n",
    "tmp = df_train[df_train['cell_type']==\"markdown\"]\n",
    "tmp = np.array([len(clr_data(tmp[\"source\"][i])) for i in range(len(tmp))])\n",
    "print('Min source Length = ', min(tmp))\n",
    "print('Mean source Length = ', round(np.mean(tmp),2))\n",
    "print('Max source Length = ', max(tmp))\n",
    "\n",
    "\n",
    "fig,ax= plt.subplots(figsize= (25,5))\n",
    "plt.boxplot(tmp, vert=False, showbox=True, showmeans=True)\n",
    "plt.xlabel(\"Lenght of source\");\n",
    "\n",
    "\n",
    "# Q1, Q2, Q3 ~ quantile\n",
    "Q_val = pd.Series(tmp).quantile([0.25,0.5,0.75]).tolist()\n",
    "Q_1 = Q_val[0]\n",
    "Q_2 = Q_val[1]\n",
    "Q_3 = Q_val[2]\n",
    "IQR = Q_3 - Q_1\n",
    "\n",
    "print(\"Q_1:- \", Q_1, \"\\nQ_2:- \", Q_2, \"\\nQ_3:- \", Q_3, \"\\nIQR:- \", IQR)\n",
    "\n",
    "print(\"len min - Q_1 :- \", len(tmp[(tmp< (Q_1 - 1.5 * IQR))]))\n",
    "print(\"len Q_1 - Q_2 :- \", len(tmp[(tmp>= (Q_1 - 1.5 * IQR)) & (tmp<= (Q_2))]))\n",
    "print(\"len Q_2 - Q_3 :- \", len(tmp[(tmp>= (Q_2)) & (tmp<= (Q_3 + 1.5 * IQR))]))\n",
    "print(\"len Q_3 - max :- \", len(tmp[(tmp>= (Q_3 + 1.5 * IQR))]))\n",
    "\n",
    "# Filtering Values between Q1-1.5IQR and Q3+1.5IQR\n",
    "tmp = tmp[(tmp>= (Q_1 - 1.5 * IQR)) & (tmp<= (Q_3 + 1.5 * IQR))]\n",
    "\n",
    "fig,ax= plt.subplots(figsize= (25,5))\n",
    "plt.boxplot(tmp, vert=False, showbox=True, showmeans=True)\n",
    "plt.xlabel(\"Lenght of source - filtered\");\n",
    "\n",
    "del tmp"
   ]
  },
  {
   "cell_type": "code",
   "execution_count": 20,
   "id": "b463b32b",
   "metadata": {},
   "outputs": [
    {
     "name": "stdout",
     "output_type": "stream",
     "text": [
      "Выбросы наблюдаются в: HouseYear, KitchenSquare.\n",
      "\n",
      "Признаки с аномально высоким значением, которые нужно будет ограничить: HouseFloor, LifeSquare, Rooms, Square.\n",
      "['Выбросы', 'наблюдаются', 'в:', 'HouseYear', 'KitchenSquare', 'Признаки', 'с', 'аномально', 'высоким', 'значением', 'которые', 'нужно', 'будет', 'ограничить:', 'HouseFloor', 'LifeSquare', 'Rooms', 'Square']\n"
     ]
    }
   ],
   "source": [
    "tmp = df_train[df_train['cell_type']==\"markdown\"]\n",
    "for i in range(len(tmp)):\n",
    "    if len(clr_data(tmp[\"source\"][i])) >= 10 and len(clr_data(tmp[\"source\"][i])) <= 100:\n",
    "        print(tmp[\"source\"][i])\n",
    "        print(clr_data(tmp[\"source\"][i]))\n",
    "        break"
   ]
  },
  {
   "cell_type": "code",
   "execution_count": 40,
   "id": "21ad7ced",
   "metadata": {},
   "outputs": [
    {
     "name": "stdout",
     "output_type": "stream",
     "text": [
      "min str frequency:-  1\n",
      "max str frequency:-  9713752\n",
      "Q_1:-  1.0 \n",
      "Q_2:-  2.0 \n",
      "Q_3:-  4.0 \n",
      "IQR:-  3.0\n",
      "len min - Q_1 :-  0\n",
      "len Q_1 - Q_2 :-  3720137\n",
      "len Q_2 - Q_3 :-  2221208\n",
      "len Q_3 - max :-  668599\n"
     ]
    },
    {
     "data": {
      "image/png": "[encoded data removed]",
      "text/plain": [
       "<Figure size 1800x360 with 1 Axes>"
      ]
     },
     "metadata": {
      "needs_background": "light"
     },
     "output_type": "display_data"
    },
    {
     "data": {
      "image/png": "[encoded data removed]",
      "text/plain": [
       "<Figure size 1800x360 with 1 Axes>"
      ]
     },
     "metadata": {
      "needs_background": "light"
     },
     "output_type": "display_data"
    }
   ],
   "source": [
    "'''\n",
    "source word frequency :\n",
    "'''\n",
    "word_freq = {}\n",
    "tmp = [clr_data(x) for x in df_train[\"source\"]]\n",
    "\n",
    "for str_vals in tmp:\n",
    "    for str_val in str_vals:\n",
    "        if str_val in word_freq:\n",
    "            word_freq[str_val] += 1\n",
    "        else:\n",
    "            word_freq[str_val] = 1\n",
    "\n",
    "str_keys = word_freq.keys()\n",
    "str_cnts = list(word_freq.values())\n",
    "\n",
    "print(\"min str frequency:- \", min(str_cnts))\n",
    "print(\"max str frequency:- \", max(str_cnts))\n",
    "\n",
    "\n",
    "fig,ax= plt.subplots(figsize= (25,5))\n",
    "plt.boxplot(str_cnts, vert=False, showbox=True, showmeans=True)\n",
    "plt.xlabel(\"word frequency ~ source\");\n",
    "\n",
    "# Q1, Q2, Q3 ~ quantile\n",
    "Q_1 = np.quantile(str_cnts, 0.25)\n",
    "Q_2 = np.quantile(str_cnts, 0.50)\n",
    "Q_3 = np.quantile(str_cnts, 0.75)\n",
    "IQR = Q_3 - Q_1\n",
    "\n",
    "print(\"Q_1:- \", Q_1, \"\\nQ_2:- \", Q_2, \"\\nQ_3:- \", Q_3, \"\\nIQR:- \", IQR)\n",
    "\n",
    "tmp = [str_cnt for str_cnt in str_cnts if (str_cnt< (Q_1 - 1.5 * IQR))]\n",
    "print(\"len min - Q_1 :- \", len(tmp))\n",
    "tmp = [str_cnt for str_cnt in str_cnts if (str_cnt>= (Q_1 - 1.5 * IQR)) & (str_cnt<= (Q_2))]\n",
    "print(\"len Q_1 - Q_2 :- \", len(tmp))\n",
    "tmp = [str_cnt for str_cnt in str_cnts if (str_cnt>= (Q_2)) & (str_cnt<= (Q_3 + 1.5 * IQR))]\n",
    "print(\"len Q_2 - Q_3 :- \", len(tmp))\n",
    "tmp = [str_cnt for str_cnt in str_cnts if (str_cnt>= (Q_3 + 1.5 * IQR))]\n",
    "print(\"len Q_3 - max :- \", len(tmp))\n",
    "\n",
    "# Filtering Values between Q1-1.5IQR and Q3+1.5IQR\n",
    "str_cnts = [str_cnt for str_cnt in str_cnts if (str_cnt>= (Q_1 - 1.5 * IQR)) & (str_cnt<= (Q_3 + 1.5 * IQR))] \n",
    "\n",
    "fig,ax= plt.subplots(figsize= (25,5))\n",
    "plt.boxplot(str_cnts, vert=False, showbox=True, showmeans=True)\n",
    "plt.xlabel(\"word frequency ~ source - filtered\");\n",
    "\n",
    "\n",
    "del str_keys\n",
    "del str_cnts\n",
    "del tmp"
   ]
  },
  {
   "cell_type": "code",
   "execution_count": 41,
   "id": "627474fa",
   "metadata": {},
   "outputs": [
    {
     "name": "stdout",
     "output_type": "stream",
     "text": [
      "train_true_values\n"
     ]
    }
   ],
   "source": [
    "for key in word_freq.keys():\n",
    "    if(word_freq[key] >= 10 and word_freq[key]<=100):\n",
    "        print(key)\n",
    "        break\n",
    "\n",
    "del word_freq"
   ]
  },
  {
   "cell_type": "code",
   "execution_count": 42,
   "id": "79e2ba88",
   "metadata": {},
   "outputs": [
    {
     "name": "stdout",
     "output_type": "stream",
     "text": [
      "min str frequency:-  1\n",
      "max str frequency:-  9546857\n",
      "Q_1:-  1.0 \n",
      "Q_2:-  2.0 \n",
      "Q_3:-  4.0 \n",
      "IQR:-  3.0\n",
      "len min - Q_1 :-  0\n",
      "len Q_1 - Q_2 :-  2633041\n",
      "len Q_2 - Q_3 :-  1810743\n",
      "len Q_3 - max :-  544656\n"
     ]
    },
    {
     "data": {
      "image/png": "[encoded data removed]",
      "text/plain": [
       "<Figure size 1800x360 with 1 Axes>"
      ]
     },
     "metadata": {
      "needs_background": "light"
     },
     "output_type": "display_data"
    },
    {
     "data": {
      "image/png": "[encoded data removed]",
      "text/plain": [
       "<Figure size 1800x360 with 1 Axes>"
      ]
     },
     "metadata": {
      "needs_background": "light"
     },
     "output_type": "display_data"
    }
   ],
   "source": [
    "'''\n",
    "source word ~ code cell frequency :\n",
    "'''\n",
    "tmp = df_train[df_train['cell_type']==\"code\"]\n",
    "word_freq = {}\n",
    "tmp = [clr_data(x) for x in tmp[\"source\"]]\n",
    "\n",
    "for str_vals in tmp:\n",
    "    for str_val in str_vals:\n",
    "        if str_val in word_freq:\n",
    "            word_freq[str_val] += 1\n",
    "        else:\n",
    "            word_freq[str_val] = 1\n",
    "\n",
    "str_keys = word_freq.keys()\n",
    "str_cnts = list(word_freq.values())\n",
    "\n",
    "print(\"min str frequency:- \", min(str_cnts))\n",
    "print(\"max str frequency:- \", max(str_cnts))\n",
    "\n",
    "\n",
    "fig,ax= plt.subplots(figsize= (25,5))\n",
    "plt.boxplot(str_cnts, vert=False, showbox=True, showmeans=True)\n",
    "plt.xlabel(\"word frequency ~ source ~ code cell\");\n",
    "\n",
    "# Q1, Q2, Q3 ~ quantile\n",
    "Q_1 = np.quantile(str_cnts, 0.25)\n",
    "Q_2 = np.quantile(str_cnts, 0.50)\n",
    "Q_3 = np.quantile(str_cnts, 0.75)\n",
    "IQR = Q_3 - Q_1\n",
    "\n",
    "print(\"Q_1:- \", Q_1, \"\\nQ_2:- \", Q_2, \"\\nQ_3:- \", Q_3, \"\\nIQR:- \", IQR)\n",
    "\n",
    "tmp = [str_cnt for str_cnt in str_cnts if (str_cnt< (Q_1 - 1.5 * IQR))]\n",
    "print(\"len min - Q_1 :- \", len(tmp))\n",
    "tmp = [str_cnt for str_cnt in str_cnts if (str_cnt>= (Q_1 - 1.5 * IQR)) & (str_cnt<= (Q_2))]\n",
    "print(\"len Q_1 - Q_2 :- \", len(tmp))\n",
    "tmp = [str_cnt for str_cnt in str_cnts if (str_cnt>= (Q_2)) & (str_cnt<= (Q_3 + 1.5 * IQR))]\n",
    "print(\"len Q_2 - Q_3 :- \", len(tmp))\n",
    "tmp = [str_cnt for str_cnt in str_cnts if (str_cnt>= (Q_3 + 1.5 * IQR))]\n",
    "print(\"len Q_3 - max :- \", len(tmp))\n",
    "\n",
    "# Filtering Values between Q1-1.5IQR and Q3+1.5IQR\n",
    "str_cnts = [str_cnt for str_cnt in str_cnts if (str_cnt>= (Q_1 - 1.5 * IQR)) & (str_cnt<= (Q_3 + 1.5 * IQR))] \n",
    "\n",
    "fig,ax= plt.subplots(figsize= (25,5))\n",
    "plt.boxplot(str_cnts, vert=False, showbox=True, showmeans=True)\n",
    "plt.xlabel(\"word frequency ~ source ~ code cell - filtered\");\n",
    "\n",
    "\n",
    "del str_keys\n",
    "del str_cnts\n",
    "del tmp"
   ]
  },
  {
   "cell_type": "code",
   "execution_count": 43,
   "id": "58e80d63",
   "metadata": {},
   "outputs": [
    {
     "name": "stdout",
     "output_type": "stream",
     "text": [
      "train_true_values\n"
     ]
    }
   ],
   "source": [
    "for key in word_freq.keys():\n",
    "    if(word_freq[key] >= 10 and word_freq[key]<=100):\n",
    "        print(key)\n",
    "        break\n",
    "\n",
    "del word_freq"
   ]
  },
  {
   "cell_type": "code",
   "execution_count": 46,
   "id": "ad42c45a",
   "metadata": {},
   "outputs": [
    {
     "name": "stdout",
     "output_type": "stream",
     "text": [
      "min str frequency:-  1\n",
      "max str frequency:-  3002822\n",
      "Q_1:-  1.0 \n",
      "Q_2:-  1.0 \n",
      "Q_3:-  2.0 \n",
      "IQR:-  1.0\n",
      "len min - Q_1 :-  0\n",
      "len Q_1 - Q_2 :-  1084738\n",
      "len Q_2 - Q_3 :-  1450934\n",
      "len Q_3 - max :-  341195\n"
     ]
    },
    {
     "data": {
      "image/png": "[encoded data removed]",
      "text/plain": [
       "<Figure size 1800x360 with 1 Axes>"
      ]
     },
     "metadata": {
      "needs_background": "light"
     },
     "output_type": "display_data"
    },
    {
     "data": {
      "image/png": "[encoded data removed]",
      "text/plain": [
       "<Figure size 1800x360 with 1 Axes>"
      ]
     },
     "metadata": {
      "needs_background": "light"
     },
     "output_type": "display_data"
    }
   ],
   "source": [
    "'''\n",
    "source word ~ markdown cell frequency :\n",
    "'''\n",
    "tmp = df_train[df_train['cell_type']==\"markdown\"]\n",
    "word_freq = {}\n",
    "tmp = [clr_data(x) for x in tmp[\"source\"]]\n",
    "\n",
    "for str_vals in tmp:\n",
    "    for str_val in str_vals:\n",
    "        if str_val in word_freq:\n",
    "            word_freq[str_val] += 1\n",
    "        else:\n",
    "            word_freq[str_val] = 1\n",
    "\n",
    "str_keys = word_freq.keys()\n",
    "str_cnts = list(word_freq.values())\n",
    "\n",
    "print(\"min str frequency:- \", min(str_cnts))\n",
    "print(\"max str frequency:- \", max(str_cnts))\n",
    "\n",
    "\n",
    "fig,ax= plt.subplots(figsize= (25,5))\n",
    "plt.boxplot(str_cnts, vert=False, showbox=True, showmeans=True)\n",
    "plt.xlabel(\"word frequency ~ source ~ markdown\");\n",
    "\n",
    "# Q1, Q2, Q3 ~ quantile\n",
    "Q_1 = np.quantile(str_cnts, 0.25)\n",
    "Q_2 = np.quantile(str_cnts, 0.50)\n",
    "Q_3 = np.quantile(str_cnts, 0.75)\n",
    "IQR = Q_3 - Q_1\n",
    "\n",
    "print(\"Q_1:- \", Q_1, \"\\nQ_2:- \", Q_2, \"\\nQ_3:- \", Q_3, \"\\nIQR:- \", IQR)\n",
    "\n",
    "tmp = [str_cnt for str_cnt in str_cnts if (str_cnt< (Q_1 - 1.5 * IQR))]\n",
    "print(\"len min - Q_1 :- \", len(tmp))\n",
    "tmp = [str_cnt for str_cnt in str_cnts if (str_cnt>= (Q_1 - 1.5 * IQR)) & (str_cnt<= (Q_2))]\n",
    "print(\"len Q_1 - Q_2 :- \", len(tmp))\n",
    "tmp = [str_cnt for str_cnt in str_cnts if (str_cnt>= (Q_2)) & (str_cnt<= (Q_3 + 1.5 * IQR))]\n",
    "print(\"len Q_2 - Q_3 :- \", len(tmp))\n",
    "tmp = [str_cnt for str_cnt in str_cnts if (str_cnt>= (Q_3 + 1.5 * IQR))]\n",
    "print(\"len Q_3 - max :- \", len(tmp))\n",
    "\n",
    "# Filtering Values between Q1-1.5IQR and Q3+1.5IQR\n",
    "str_cnts = [str_cnt for str_cnt in str_cnts if (str_cnt>= (Q_1 - 1.5 * IQR)) & (str_cnt<= (Q_3 + 1.5 * IQR))] \n",
    "\n",
    "fig,ax= plt.subplots(figsize= (25,5))\n",
    "plt.boxplot(str_cnts, vert=False, showbox=True, showmeans=True)\n",
    "plt.xlabel(\"word frequency ~ source ~ markdown - filtered\");\n",
    "\n",
    "\n",
    "del str_keys\n",
    "del str_cnts\n",
    "del tmp"
   ]
  },
  {
   "cell_type": "code",
   "execution_count": 47,
   "id": "871323fe",
   "metadata": {},
   "outputs": [
    {
     "name": "stdout",
     "output_type": "stream",
     "text": [
      "Выбросы\n"
     ]
    }
   ],
   "source": [
    "for key in word_freq.keys():\n",
    "    if(word_freq[key] >= 10 and word_freq[key]<=100):\n",
    "        print(key)\n",
    "        break\n",
    "\n",
    "del word_freq"
   ]
  },
  {
   "cell_type": "markdown",
   "id": "658514cd",
   "metadata": {},
   "source": [
    "## test"
   ]
  },
  {
   "cell_type": "code",
   "execution_count": null,
   "id": "147ad6a9",
   "metadata": {},
   "outputs": [],
   "source": [
    "df_test = pd.read_hdf('Kaggle_Google_AI4Code_test.hdf', key='Kaggle_Google_AI4Code_test')"
   ]
  },
  {
   "cell_type": "code",
   "execution_count": null,
   "id": "0248a493",
   "metadata": {},
   "outputs": [],
   "source": [
    "print(\"Test shape:- \", df_test.shape)"
   ]
  }
 ],
 "metadata": {
  "kernelspec": {
   "display_name": "Python 3 (ipykernel)",
   "language": "python",
   "name": "python3"
  },
  "language_info": {
   "codemirror_mode": {
    "name": "ipython",
    "version": 3
   },
   "file_extension": ".py",
   "mimetype": "text/x-python",
   "name": "python",
   "nbconvert_exporter": "python",
   "pygments_lexer": "ipython3",
   "version": "3.7.4"
  }
 },
 "nbformat": 4,
 "nbformat_minor": 5
}
